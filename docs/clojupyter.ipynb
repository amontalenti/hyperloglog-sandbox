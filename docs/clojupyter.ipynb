{
 "cells": [
  {
   "cell_type": "markdown",
   "metadata": {
    "slideshow": {
     "slide_type": "slide"
    }
   },
   "source": [
    "# Coming to Clojure from Python\n",
    "\n",
    "Clojure is probably the world's most widely-used and \"production-ready\" Lisp.\n",
    "\n",
    "Lisps like Clojure make it easy to explore the nature of:\n",
    "\n",
    "- syntax\n",
    "- metalanguages\n",
    "- values\n",
    "- references\n",
    "- mutation\n",
    "- control flow\n",
    "- and, concurrency\n",
    "\n",
    "**In Python, you rarely think about these things! So, it's fun to learn Clojure!**"
   ]
  },
  {
   "cell_type": "markdown",
   "metadata": {
    "slideshow": {
     "slide_type": "slide"
    }
   },
   "source": [
    "# Acknowledgement\n",
    "\n",
    "\\*Note: a lot of the material from these slides was shamelessly copied-and-modified.\n",
    "\n",
    "*(Source: Aphyr's introduction to Clojure in his excellent blog post series.)*\n",
    "\n",
    "Reference Link to 7-part blog series, \"Clojure from the ground up\":\n",
    "\n",
    "https://www.one-tab.com/page/DpcygWyeQbqtvt2G3qJrUw"
   ]
  },
  {
   "cell_type": "markdown",
   "metadata": {
    "slideshow": {
     "slide_type": "slide"
    }
   },
   "source": [
    "# First-class, explicit\n",
    "\n",
    "Many languages leave these ideas implicit in the language construction, or don’t have a concept of metalanguages or concurrency at all.\n",
    "\n",
    "**Clojure makes these ideas explicit, first-class language constructs.**\n",
    "\n",
    "I won't have time to go into concurrency here. Also not discussed in this presentation:\n",
    "\n",
    "- static type analysis (see Haskell)\n",
    "- underlying hardware (see C & assembly)\n",
    "- code performance (see JVM profiling)\n",
    "\n",
    "(But, these are topics that interest me and I'm willing to discuss them -- just come talk to me or ping me on Zulip via `@Andrew Montalenti` in the `#clojure` stream!)"
   ]
  },
  {
   "cell_type": "markdown",
   "metadata": {
    "slideshow": {
     "slide_type": "slide"
    }
   },
   "source": [
    "# Well-rounded\n",
    "\n",
    "**Clojure is a well-rounded language.**\n",
    "\n",
    "It offers:\n",
    "\n",
    "- broad library support\n",
    "- runs on multiple operating systems\n",
    "- adequate performance (orders of magnitude faster than Ruby or Python)\n",
    "- safety in its type system\n",
    "- a sane approach to parallelism\n",
    "- built-ins to help with correct multithreaded programs\n",
    "- a full-featured REPL\n",
    "- a dynamic type system"
   ]
  },
  {
   "cell_type": "markdown",
   "metadata": {
    "slideshow": {
     "slide_type": "slide"
    }
   },
   "source": [
    "# Concise and ideal for learning\n",
    "\n",
    "**Clojure is concise, requiring very little code to express complex operations.**\n",
    "\n",
    "What's more, you have:\n",
    "\n",
    "- A consistently designed standard library\n",
    "- a full-featured set of core datatypes rounds out the Clojure toolbox\n",
    "- access to the world of the JVM\n",
    "\n",
    "**Clojure is ideal for beginners to experiment with and well-suited for manipulating complex data structures.**"
   ]
  },
  {
   "cell_type": "markdown",
   "metadata": {
    "slideshow": {
     "slide_type": "slide"
    }
   },
   "source": [
    "# A few drawbacks\n",
    "\n",
    "Finally, some drawbacks: \n",
    "\n",
    "- Parenthesis (Lispers and Clojurists swear by them, but they are, in practice, a bit annoying!))))))))\n",
    "- Clojure is much slower to start than Python; less suitable for writing small scripts\n",
    "- Not well-suited for high-performance low-level or numeric operations; Java is better here\n",
    "- Lisp syntax and declarative programming model is not obvious to programmers unexposed to it\n",
    "\n",
    "**In practice, I find the main drawback to Clojure is also its strength: its relationship to the JVM.**"
   ]
  },
  {
   "cell_type": "markdown",
   "metadata": {
    "slideshow": {
     "slide_type": "slide"
    }
   },
   "source": [
    "# More links and resources\n",
    "\n",
    "**A word of warning: Clojure programmers think very highly of themselves, as a community. It's a very high-minded group that likes to reflect deeply on the nature of \"abstraction\" and \"higher-order programming\". This can sometimes make the community feel unwelcoming to beginners.**\n",
    "\n",
    "**But, anyone can learn Clojure, including you!**\n",
    "\n",
    "There are great materials -- in print, video, PDF, and blog form -- for learning Clojure. I've gone through a lot of them. Feel free to ask me about a suggested curriculum for your learning style!\n",
    "\n",
    "Clojonic: Pythonic Clojure (blog post)\n",
    "https://amontalenti.com/2014/11/02/clojonic\n",
    "\n",
    "Clojonic Slides in Note & Code Form:\n",
    "https://amontalenti.com/pub/clojonic/\n",
    "\n",
    "OneTab link collection for Aphyr's excellent \"Clojure from the ground up\":\n",
    "https://www.one-tab.com/page/DpcygWyeQbqtvt2G3qJrUw"
   ]
  },
  {
   "cell_type": "markdown",
   "metadata": {
    "slideshow": {
     "slide_type": "slide"
    }
   },
   "source": [
    "# EOF"
   ]
  },
  {
   "cell_type": "code",
   "execution_count": 27,
   "metadata": {},
   "outputs": [
    {
     "data": {
      "text/plain": [
       "1"
      ]
     },
     "execution_count": 27,
     "metadata": {},
     "output_type": "execute_result"
    }
   ],
   "source": [
    "1"
   ]
  },
  {
   "cell_type": "code",
   "execution_count": 28,
   "metadata": {},
   "outputs": [
    {
     "data": {
      "text/plain": [
       "\"string\""
      ]
     },
     "execution_count": 28,
     "metadata": {},
     "output_type": "execute_result"
    }
   ],
   "source": [
    "\"string\""
   ]
  },
  {
   "cell_type": "code",
   "execution_count": 29,
   "metadata": {},
   "outputs": [
    {
     "data": {
      "text/plain": [
       "true"
      ]
     },
     "execution_count": 29,
     "metadata": {},
     "output_type": "execute_result"
    }
   ],
   "source": [
    "(or true false)"
   ]
  },
  {
   "cell_type": "code",
   "execution_count": 30,
   "metadata": {},
   "outputs": [
    {
     "data": {
      "text/plain": [
       "true"
      ]
     },
     "execution_count": 30,
     "metadata": {},
     "output_type": "execute_result"
    }
   ],
   "source": [
    "(nil? nil)"
   ]
  },
  {
   "cell_type": "code",
   "execution_count": 31,
   "metadata": {},
   "outputs": [
    {
     "data": {
      "text/plain": [
       "false"
      ]
     },
     "execution_count": 31,
     "metadata": {},
     "output_type": "execute_result"
    }
   ],
   "source": [
    "(= 1 2)"
   ]
  },
  {
   "cell_type": "code",
   "execution_count": 32,
   "metadata": {},
   "outputs": [
    {
     "data": {
      "text/plain": [
       "3"
      ]
     },
     "execution_count": 32,
     "metadata": {},
     "output_type": "execute_result"
    }
   ],
   "source": [
    "(+ 1 2)"
   ]
  },
  {
   "cell_type": "code",
   "execution_count": 33,
   "metadata": {},
   "outputs": [
    {
     "data": {
      "text/plain": [
       "#function[clojure.core/+]"
      ]
     },
     "execution_count": 33,
     "metadata": {},
     "output_type": "execute_result"
    }
   ],
   "source": [
    "+"
   ]
  },
  {
   "cell_type": "code",
   "execution_count": 34,
   "metadata": {},
   "outputs": [
    {
     "data": {
      "text/plain": [
       "()"
      ]
     },
     "execution_count": 34,
     "metadata": {},
     "output_type": "execute_result"
    }
   ],
   "source": [
    "'()"
   ]
  },
  {
   "cell_type": "code",
   "execution_count": 35,
   "metadata": {},
   "outputs": [
    {
     "data": {
      "text/plain": [
       "(+ 1 2)"
      ]
     },
     "execution_count": 35,
     "metadata": {},
     "output_type": "execute_result"
    }
   ],
   "source": [
    "'(+ 1 2)"
   ]
  },
  {
   "cell_type": "code",
   "execution_count": 36,
   "metadata": {},
   "outputs": [
    {
     "data": {
      "text/plain": [
       "clojure.lang.PersistentList"
      ]
     },
     "execution_count": 36,
     "metadata": {},
     "output_type": "execute_result"
    }
   ],
   "source": [
    "(type '(+ 1 2))"
   ]
  },
  {
   "cell_type": "code",
   "execution_count": 37,
   "metadata": {},
   "outputs": [
    {
     "data": {
      "text/plain": [
       "[1 2]"
      ]
     },
     "execution_count": 37,
     "metadata": {},
     "output_type": "execute_result"
    }
   ],
   "source": [
    "[1 2]"
   ]
  },
  {
   "cell_type": "code",
   "execution_count": 38,
   "metadata": {},
   "outputs": [
    {
     "data": {
      "text/plain": [
       "clojure.lang.PersistentVector"
      ]
     },
     "execution_count": 38,
     "metadata": {},
     "output_type": "execute_result"
    }
   ],
   "source": [
    "(type [1 2])"
   ]
  },
  {
   "cell_type": "code",
   "execution_count": 39,
   "metadata": {},
   "outputs": [
    {
     "data": {
      "text/plain": [
       "[1 2]"
      ]
     },
     "execution_count": 39,
     "metadata": {},
     "output_type": "execute_result"
    }
   ],
   "source": [
    "(vector 1 2)"
   ]
  },
  {
   "cell_type": "code",
   "execution_count": 40,
   "metadata": {},
   "outputs": [
    {
     "data": {
      "text/plain": [
       "[1 2]"
      ]
     },
     "execution_count": 40,
     "metadata": {},
     "output_type": "execute_result"
    }
   ],
   "source": [
    "(vec '(1 2))"
   ]
  },
  {
   "cell_type": "code",
   "execution_count": 41,
   "metadata": {},
   "outputs": [
    {
     "name": "stdout",
     "output_type": "stream",
     "text": [
      "1\n"
     ]
    },
    {
     "data": {
      "text/plain": [
       "nil"
      ]
     },
     "execution_count": 41,
     "metadata": {},
     "output_type": "execute_result"
    }
   ],
   "source": [
    "(let [i 1]\n",
    "    (println i))"
   ]
  },
  {
   "cell_type": "code",
   "execution_count": 42,
   "metadata": {},
   "outputs": [
    {
     "name": "stderr",
     "output_type": "stream",
     "text": [
      "Syntax error compiling at (REPL:1:1).\n",
      "Unable to resolve symbol: i in this context\n"
     ]
    },
    {
     "ename": "class clojure.lang.Compiler$CompilerException",
     "evalue": "",
     "output_type": "error",
     "traceback": [
      "  Util.java:   221 clojure.lang.Util/runtimeException                     ",
      "   core.clj:  3214 clojure.core$eval/invokeStatic                         ",
      "   core.clj:  3210 clojure.core$eval/invoke                               ",
      "   main.clj:   437 clojure.main$repl$read_eval_print__9086$fn__9089/invoke",
      "   main.clj:   458 clojure.main$repl$fn__9095/invoke                      ",
      "   main.clj:   368 clojure.main$repl/doInvoke                             ",
      "RestFn.java:  1523 clojure.lang.RestFn/invoke                             ",
      "   AFn.java:    22 clojure.lang.AFn/run                                   ",
      "   AFn.java:    22 clojure.lang.AFn/run                                   ",
      "Thread.java:   745 java.lang.Thread/run                                   "
     ]
    }
   ],
   "source": [
    "(println i)"
   ]
  },
  {
   "cell_type": "code",
   "execution_count": 43,
   "metadata": {},
   "outputs": [
    {
     "data": {
      "text/plain": [
       "{:name \"Andrew\", :loc \"Recurse\"}"
      ]
     },
     "execution_count": 43,
     "metadata": {},
     "output_type": "execute_result"
    }
   ],
   "source": [
    "{:name \"Andrew\" :loc \"Recurse\"}"
   ]
  },
  {
   "cell_type": "code",
   "execution_count": 44,
   "metadata": {},
   "outputs": [
    {
     "name": "stdout",
     "output_type": "stream",
     "text": [
      "Andrew\n",
      "Recurse\n"
     ]
    },
    {
     "data": {
      "text/plain": [
       "nil"
      ]
     },
     "execution_count": 44,
     "metadata": {},
     "output_type": "execute_result"
    }
   ],
   "source": [
    "(let [person {:name \"Andrew\" :loc \"Recurse\"}]\n",
    "    (println (:name person))\n",
    "    (println (:loc person)))"
   ]
  },
  {
   "cell_type": "code",
   "execution_count": 45,
   "metadata": {},
   "outputs": [
    {
     "data": {
      "text/plain": [
       "(0 45\n",
       "1 23\n",
       "2 51\n",
       "3 32\n",
       "4 5\n",
       "nil nil nil nil nil)"
      ]
     },
     "execution_count": 45,
     "metadata": {},
     "output_type": "execute_result"
    }
   ],
   "source": [
    "(let [nums [45 23 51 32 5]]\n",
    "    (for [[idx num] (map-indexed vector nums)]\n",
    "        (println idx num)))"
   ]
  },
  {
   "cell_type": "code",
   "execution_count": 46,
   "metadata": {},
   "outputs": [
    {
     "name": "stdout",
     "output_type": "stream",
     "text": [
      "0 45\n",
      "1 23\n",
      "2 51\n",
      "3 32\n",
      "4 5\n"
     ]
    },
    {
     "data": {
      "text/plain": [
       "nil"
      ]
     },
     "execution_count": 46,
     "metadata": {},
     "output_type": "execute_result"
    }
   ],
   "source": [
    "(let [nums [45 23 51 32 5]]\n",
    "    (doseq [[idx num] (map-indexed vector nums)]\n",
    "        (println idx num)))"
   ]
  },
  {
   "cell_type": "code",
   "execution_count": 47,
   "metadata": {},
   "outputs": [
    {
     "name": "stdout",
     "output_type": "stream",
     "text": [
      "0 45\n",
      "1 23\n",
      "2 51\n",
      "3 32\n",
      "4 5\n"
     ]
    },
    {
     "data": {
      "text/plain": [
       "nil"
      ]
     },
     "execution_count": 47,
     "metadata": {},
     "output_type": "execute_result"
    }
   ],
   "source": [
    "(defn enumerate [coll]\n",
    "    (map-indexed vector coll))\n",
    "\n",
    "(let [nums [45 23 51 32 5]]\n",
    "    (doseq [[idx num] (enumerate nums)]\n",
    "        (println idx num)))"
   ]
  },
  {
   "cell_type": "code",
   "execution_count": 48,
   "metadata": {},
   "outputs": [
    {
     "name": "stdout",
     "output_type": "stream",
     "text": [
      "0 45\n",
      "1 23\n",
      "2 51\n",
      "3 32\n",
      "4 5\n"
     ]
    },
    {
     "data": {
      "text/plain": [
       "nil"
      ]
     },
     "execution_count": 48,
     "metadata": {},
     "output_type": "execute_result"
    }
   ],
   "source": [
    "(defmacro enumerate [coll]\n",
    "    `(map-indexed vector ~coll))\n",
    "\n",
    "(let [nums [45 23 51 32 5]]\n",
    "    (doseq [[idx num] (enumerate nums)]\n",
    "        (println idx num)))"
   ]
  },
  {
   "cell_type": "code",
   "execution_count": 49,
   "metadata": {},
   "outputs": [
    {
     "data": {
      "text/plain": [
       "(def named-function (clojure.core/fn ([some-value] (println some-value))))"
      ]
     },
     "execution_count": 49,
     "metadata": {},
     "output_type": "execute_result"
    }
   ],
   "source": [
    "(macroexpand\n",
    "    '(defn named-function [some-value]\n",
    "        (println some-value)))"
   ]
  },
  {
   "cell_type": "code",
   "execution_count": 50,
   "metadata": {},
   "outputs": [
    {
     "data": {
      "text/plain": [
       "([0 45] [1 23] [2 51] [3 32] [4 5])"
      ]
     },
     "execution_count": 50,
     "metadata": {},
     "output_type": "execute_result"
    }
   ],
   "source": [
    "(map-indexed vector [45 23 51 32 5])"
   ]
  },
  {
   "cell_type": "code",
   "execution_count": 51,
   "metadata": {},
   "outputs": [
    {
     "data": {
      "text/plain": [
       "([0 45] [1 23] [2 51] [3 32] [4 5])"
      ]
     },
     "execution_count": 51,
     "metadata": {},
     "output_type": "execute_result"
    }
   ],
   "source": [
    "(enumerate [45 23 51 32 5])"
   ]
  },
  {
   "cell_type": "code",
   "execution_count": 52,
   "metadata": {},
   "outputs": [
    {
     "name": "stdout",
     "output_type": "stream",
     "text": [
      "[45 23 51 32 5]\n",
      "[45 23 51 32 5 75]\n"
     ]
    },
    {
     "data": {
      "text/plain": [
       "nil"
      ]
     },
     "execution_count": 52,
     "metadata": {},
     "output_type": "execute_result"
    }
   ],
   "source": [
    "(let [nums [45 23 51 32 5]\n",
    "      bigger (conj nums 75)]\n",
    "    (println nums)\n",
    "    (println bigger))"
   ]
  },
  {
   "cell_type": "code",
   "execution_count": 53,
   "metadata": {},
   "outputs": [
    {
     "data": {
      "text/plain": [
       "[4 5]"
      ]
     },
     "execution_count": 53,
     "metadata": {},
     "output_type": "execute_result"
    }
   ],
   "source": [
    "(vector 0 45) ; => [0 45]\n",
    "(vector 1 23) ; => [1 23]\n",
    "(vector 2 51) ; => [2 51]\n",
    "(vector 3 32) ; => [3 32]\n",
    "(vector 4 5)  ; => [4 5]"
   ]
  },
  {
   "cell_type": "code",
   "execution_count": 54,
   "metadata": {},
   "outputs": [
    {
     "data": {
      "text/plain": [
       "#'user/nums"
      ]
     },
     "execution_count": 54,
     "metadata": {},
     "output_type": "execute_result"
    }
   ],
   "source": [
    "(def nums [45 23 51 32 5])"
   ]
  },
  {
   "cell_type": "code",
   "execution_count": 55,
   "metadata": {},
   "outputs": [
    {
     "data": {
      "text/plain": [
       "([0 45]\n",
       "[1 23]\n",
       "[2 51]\n",
       "[3 32]\n",
       "[4 5]\n",
       "nil nil nil nil nil)"
      ]
     },
     "execution_count": 55,
     "metadata": {},
     "output_type": "execute_result"
    }
   ],
   "source": [
    "(map println (enumerate nums))"
   ]
  },
  {
   "cell_type": "code",
   "execution_count": 56,
   "metadata": {},
   "outputs": [
    {
     "data": {
      "text/plain": [
       "([0 45]\n",
       "[1 23]\n",
       "[2 51]\n",
       "[3 32]\n",
       "[4 5]\n",
       "nil nil nil nil nil)"
      ]
     },
     "execution_count": 56,
     "metadata": {},
     "output_type": "execute_result"
    }
   ],
   "source": [
    "(->> nums enumerate (map println))"
   ]
  },
  {
   "cell_type": "code",
   "execution_count": 57,
   "metadata": {},
   "outputs": [
    {
     "data": {
      "text/plain": [
       "(clojure.core/map-indexed clojure.core/vector [1 2 3])"
      ]
     },
     "execution_count": 57,
     "metadata": {},
     "output_type": "execute_result"
    }
   ],
   "source": [
    "(macroexpand '(enumerate [1 2 3]))"
   ]
  },
  {
   "cell_type": "code",
   "execution_count": 58,
   "metadata": {},
   "outputs": [
    {
     "data": {
      "text/plain": [
       "([\"1\" \"2014-10-31\" {\"user\" \"amontalenti\", \"tweet\" \"Tweet 1\"}] [\"2\" \"2014-10-31\" {\"user\" \"amontalenti\", \"tweet\" \"Tweet 2\"}] [\"3\" \"2014-10-31\" {\"user\" \"amontalenti\", \"tweet\" \"Tweet 3\"}])"
      ]
     },
     "execution_count": 58,
     "metadata": {},
     "output_type": "execute_result"
    }
   ],
   "source": [
    ";; twitter.clj\n",
    "(ns twitter\n",
    "    (:require [clojure.data.json :as json]\n",
    "              [clojure.java.io :as io]\n",
    "              [clojure.string :as str]))\n",
    "\n",
    "(defn with-twitter-data [rdr-fn]\n",
    "    (with-open [rdr (io/reader \"data/tweets.log\")]\n",
    "        (doall (rdr-fn rdr))))\n",
    "\n",
    "(defn read-tweets [rdr]\n",
    "    (for [line (line-seq rdr)]\n",
    "        (let [[apikey timestamp entry] (str/split line #\"\\|\" 3)]\n",
    "            (vec [apikey timestamp (json/read-str entry)]))))\n",
    "\n",
    "(with-twitter-data read-tweets)"
   ]
  }
 ],
 "metadata": {
  "kernelspec": {
   "display_name": "Clojure (clojupyter=0.2.3)",
   "language": "clojure",
   "name": "conda-clojupyter"
  },
  "language_info": {
   "file_extension": ".clj",
   "mimetype": "text/x-clojure",
   "name": "clojure",
   "version": "1.10.1"
  }
 },
 "nbformat": 4,
 "nbformat_minor": 2
}
